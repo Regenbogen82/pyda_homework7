{
 "cells": [
  {
   "cell_type": "markdown",
   "metadata": {},
   "source": [
    "Задание 1\n",
    "Напишите функцию date_range, которая возвращает список дней между датами start_date и end_date. Даты должны вводиться в формате YYYY-MM-DD. "
   ]
  },
  {
   "cell_type": "code",
   "execution_count": 3,
   "metadata": {},
   "outputs": [],
   "source": [
    "def date_range():\n",
    "    from datetime import datetime \n",
    "    from datetime import timedelta \n",
    "    start_date = input('Введите начальную дату в формате \"YYYY-MM-DD\" ')\n",
    "    end_date = input('Введите конечную дату в формате \"YYYY-MM-DD\" ')\n",
    "    dates_list = []\n",
    "    start_date_c = datetime.strptime(start_date, '%Y-%m-%d')\n",
    "    end_date_c = datetime.strptime(end_date, '%Y-%m-%d') - timedelta(days = 1)\n",
    "    while start_date_c < end_date_c:\n",
    "        start_date_c += timedelta(days = 1)\n",
    "        print(str(start_date_c).replace(' 00:00:00', ''))\n",
    "        dates_list.append(str(start_date_c).replace(' 00:00:00', ''))\n",
    "    print(dates_list)\n",
    "\n",
    "#не очень поняла, имелся в виду питоновский список или просто печать подряд дат, поэтому добавила и то, и то"
   ]
  },
  {
   "cell_type": "code",
   "execution_count": 5,
   "metadata": {},
   "outputs": [
    {
     "name": "stdout",
     "output_type": "stream",
     "text": [
      "Введите начальную дату в формате \"YYYY-MM-DD\" 2019-10-10\n",
      "Введите конечную дату в формате \"YYYY-MM-DD\" 2019-10-13\n",
      "2019-10-11\n",
      "2019-10-12\n",
      "['2019-10-11', '2019-10-12']\n"
     ]
    }
   ],
   "source": [
    "date_range()\n",
    "#2018-12-20\n",
    "#2019-01-02"
   ]
  },
  {
   "cell_type": "markdown",
   "metadata": {},
   "source": [
    "Задание 2\n",
    "Дополните функцию из первого задания проверкой на корректность дат. В случае неверного формата или если start_date > end_date должен возвращаться пустой список."
   ]
  },
  {
   "cell_type": "code",
   "execution_count": 13,
   "metadata": {},
   "outputs": [],
   "source": [
    "def date_range_with_checks(start_date, end_date):\n",
    "    from datetime import datetime \n",
    "    from datetime import timedelta \n",
    "    #start_date = input('Введите начальную дату в формате \"YYYY-MM-DD\" ')\n",
    "    #end_date = input('Введите конечную дату в формате \"YYYY-MM-DD\" ')\n",
    "    dates_list = []\n",
    "    try:\n",
    "        start_date_c = datetime.strptime(start_date, '%Y-%m-%d')\n",
    "        end_date_c = datetime.strptime(end_date, '%Y-%m-%d') - timedelta(days = 1)\n",
    "        while start_date_c < end_date_c:\n",
    "            start_date_c += timedelta(days = 1)\n",
    "            #print(str(start_date_c).replace(' 00:00:00', ''))\n",
    "            dates_list.append(str(start_date_c).replace(' 00:00:00', ''))\n",
    "        print(dates_list)\n",
    "    except:\n",
    "        print(dates_list)\n"
   ]
  },
  {
   "cell_type": "code",
   "execution_count": 15,
   "metadata": {},
   "outputs": [
    {
     "name": "stdout",
     "output_type": "stream",
     "text": [
      "[]\n"
     ]
    }
   ],
   "source": [
    "date_range_with_checks('2019-12-20', '2019-01-02')"
   ]
  },
  {
   "cell_type": "markdown",
   "metadata": {},
   "source": [
    "Задание 3\n",
    "Дан поток дат в формате YYYY-MM-DD, в которых встречаются некорректные значения:\n",
    "stream = ['2018-04-02', '2018-02-29', '2018-19-02']\n",
    "\n",
    "Напишите функцию, которая проверяет эти даты на корректность. Т. е. для каждой даты возвращает True (дата корректна) или False (некорректная дата). \n"
   ]
  },
  {
   "cell_type": "code",
   "execution_count": 18,
   "metadata": {},
   "outputs": [],
   "source": [
    "def correct_date(stream):\n",
    "    from datetime import datetime \n",
    "    for i in stream:\n",
    "        try:\n",
    "            datetime.strptime(i, '%Y-%m-%d')\n",
    "            print(str(i).replace(' 00:00:00', ''), 'True')\n",
    "        except:\n",
    "            print(str(i), 'False')"
   ]
  },
  {
   "cell_type": "code",
   "execution_count": 20,
   "metadata": {},
   "outputs": [
    {
     "name": "stdout",
     "output_type": "stream",
     "text": [
      "2018-04-02 True\n",
      "2018-02-29 False\n",
      "2018-19-02 False\n",
      "2019-12-30 True\n"
     ]
    }
   ],
   "source": [
    "stream = ['2018-04-02', '2018-02-29', '2018-19-02', '2019-12-30']\n",
    "correct_date(stream)"
   ]
  },
  {
   "cell_type": "code",
   "execution_count": null,
   "metadata": {},
   "outputs": [],
   "source": [
    "Задание 4 (бонусное)\n",
    "Ваш коллега прислал код функции:\n",
    "\n",
    "DEFAULT_USER_COUNT = 3\n",
    "\n",
    "def delete_and_return_last_user(region, default_list=['A100', 'A101', 'A102']):\n",
    "    \"\"\"\n",
    "    Удаляет из списка default_list последнего пользователя \n",
    "    и возвращает ID нового последнего пользователя.\n",
    "    \"\"\"\n",
    "    element_to_delete = default_list[-1]\n",
    "    default_list.remove(element_to_delete)\n",
    "    DEFAULT_USER_COUNT\n",
    "    return default_list[DEFAULT_USER_COUNT-2]\n",
    "\n",
    "При однократном вызове этой функции все работает корректно:\n",
    "delete_and_return_last_user(1)\n",
    "'A101'\n",
    "\n",
    "Однако, при повторном вызове получается ошибка IndexError: list index out of range.\n",
    "\n",
    "Задание:\n",
    "1. Что значит ошибка list index out of range?\n",
    "2. Почему при первом запуске функция работает корректно, а при втором - нет?"
   ]
  },
  {
   "cell_type": "markdown",
   "metadata": {},
   "source": [
    "Ответы:\n",
    "1. В списке не существует вызываемого элемента. То есть нет элемента с таким индексом. \n",
    "2. Видимо, список стал слишком маленьким.\n"
   ]
  },
  {
   "cell_type": "markdown",
   "metadata": {},
   "source": [
    "Задача про интервалы\n",
    "Имеется список отсортированных по возрастанию целых чисел data. А также целое число n, которое лежит между минимальным и максимальным значениями из списка data. Вам необходимо определить минимальное ближайшее число к n из списка data.\n",
    "\n",
    "Пример:\n",
    "\n",
    "data = [1, 7, 17, 23, 27, 35, 65]\n",
    "n = 20\n",
    "Ответ: 17\n",
    "\n",
    "Подобные алгоритмы используются для классификации объекта по значению одной метрики. Например, это может пригодиться для классификации учащегося по его возрасту:\n",
    "\n",
    "ages = {\n",
    "    1: 'дети',\n",
    "    7: 'школьники',\n",
    "    17: 'студенты',\n",
    "    23: 'аспиранты',\n",
    "    27: 'молодые ученые',\n",
    "    35: 'преподаватели',\n",
    "    65: 'пенсионеры',\n",
    "}\n",
    "Итого напишите функцию, которая по списку data и числу n возвращает минимальное ближайшее к n число. Список может быть любым, поэтому не рассчитывайте на написание цепочки условий через if.\n",
    "\n",
    "Бонусные варианты:\n",
    "\n",
    "Рассмотрите ситуацию, в которой при фиксированном списке data вам необходимо классифицировать большое количество пользователей с разными значениями n. Например, вам необходимо классифицировать базу из 100 миллионов человек по возрастам по словарю ages из примера выше. Можно ли в таком случае ускорить проход по такому числу пользователей?\n",
    "\n",
    "Если вы решали основное задание перебором элементов списка data и сравнением с n, то сложность такого алгоритма O(N). Т. е. при увеличении числа элементов списка data в N раз время работы алгоритма тоже вырастет в N раз. Попробуйте ускорить этот алгоритм. Например, с помощью аналога бинарного поиска."
   ]
  },
  {
   "cell_type": "code",
   "execution_count": 115,
   "metadata": {},
   "outputs": [],
   "source": [
    "def classifier(n):\n",
    "    ages = {1: 'дети', 7: 'школьники', 17: 'студенты', 29: 'аспиранты', 27: 'молодые ученые', 35: 'преподаватели', 65: 'пенсионеры'}\n",
    "    compare_list = sorted(list(ages.keys()))\n",
    "    x = len(compare_list) - 1\n",
    "    if n > compare_list[x]:     \n",
    "        key_val = compare_list[x]\n",
    "        print(ages[key_val]) \n",
    "        return\n",
    "    for i in enumerate(compare_list):\n",
    "        if i[1] - n > 0:\n",
    "            key_number = int(i[0]) - 1\n",
    "            break\n",
    "    key_val = compare_list[key_number]\n",
    "    print(ages[key_val]) "
   ]
  },
  {
   "cell_type": "code",
   "execution_count": 116,
   "metadata": {},
   "outputs": [
    {
     "name": "stdout",
     "output_type": "stream",
     "text": [
      "школьники\n"
     ]
    }
   ],
   "source": [
    "classifier(12)"
   ]
  },
  {
   "cell_type": "code",
   "execution_count": null,
   "metadata": {},
   "outputs": [],
   "source": []
  },
  {
   "cell_type": "code",
   "execution_count": null,
   "metadata": {},
   "outputs": [],
   "source": []
  }
 ],
 "metadata": {
  "kernelspec": {
   "display_name": "Python 3",
   "language": "python",
   "name": "python3"
  },
  "language_info": {
   "codemirror_mode": {
    "name": "ipython",
    "version": 3
   },
   "file_extension": ".py",
   "mimetype": "text/x-python",
   "name": "python",
   "nbconvert_exporter": "python",
   "pygments_lexer": "ipython3",
   "version": "3.7.4"
  }
 },
 "nbformat": 4,
 "nbformat_minor": 2
}
