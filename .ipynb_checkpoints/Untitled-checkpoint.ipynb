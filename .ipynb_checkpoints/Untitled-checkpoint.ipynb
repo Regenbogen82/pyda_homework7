{
 "cells": [
  {
   "cell_type": "markdown",
   "metadata": {},
   "source": [
    "Задание 1\n",
    "Напишите функцию date_range, которая возвращает список дней между датами start_date и end_date. Даты должны вводиться в формате YYYY-MM-DD. "
   ]
  },
  {
   "cell_type": "code",
   "execution_count": null,
   "metadata": {},
   "outputs": [],
   "source": [
    "def date_range():\n",
    "    from datetime import datetime \n",
    "    from datetime import timedelta \n",
    "    start_date = input('Введите начальную дату в формате \"YYYY-MM-DD\" ')\n",
    "    end_date = input('Введите конечную дату в формате \"YYYY-MM-DD\" ')\n",
    "    dates_list = []\n",
    "    start_date_c = datetime.strptime(start_date, '%Y-%m-%d')\n",
    "    end_date_c = datetime.strptime(end_date, '%Y-%m-%d') - timedelta(days = 1)\n",
    "    while start_date_c < end_date_c:\n",
    "        start_date_c += timedelta(days = 1)\n",
    "        print(start_date_c)\n",
    "        dates_list.append(str(start_date_c).replace(' 00:00:00', ''))\n",
    "    print(dates_list)\n",
    "\n",
    "#не очень поняла, имелся в виду питоновский список или просто печать подряд дат, поэтому добавила и то, и то"
   ]
  },
  {
   "cell_type": "code",
   "execution_count": null,
   "metadata": {},
   "outputs": [],
   "source": [
    "date_range()\n",
    "#2018-12-20\n",
    "#2019-01-02"
   ]
  },
  {
   "cell_type": "markdown",
   "metadata": {},
   "source": [
    "Задание 2\n",
    "Дополните функцию из первого задания проверкой на корректность дат. В случае неверного формата или если start_date > end_date должен возвращаться пустой список."
   ]
  },
  {
   "cell_type": "code",
   "execution_count": null,
   "metadata": {},
   "outputs": [],
   "source": [
    "def date_range_2():\n",
    "    from datetime import datetime \n",
    "    from datetime import timedelta \n",
    "    start_date = input('Введите начальную дату в формате \"YYYY-MM-DD\" ')\n",
    "    end_date = input('Введите конечную дату в формате \"YYYY-MM-DD\" ')\n",
    "    try:\n",
    "        start_date_c = datetime.strptime(start_date, '%Y-%m-%d')\n",
    "        end_date_c = datetime.strptime(end_date, '%Y-%m-%d') - timedelta(days = 1)\n",
    "        delta = timedelta(days = 1)\n",
    "        while start_date_c < end_date_c:\n",
    "            start_date_c += timedelta(days = 1)\n",
    "            print(start_date_c)\n",
    "    except:\n",
    "        print"
   ]
  }
 ],
 "metadata": {
  "kernelspec": {
   "display_name": "Python 3",
   "language": "python",
   "name": "python3"
  },
  "language_info": {
   "codemirror_mode": {
    "name": "ipython",
    "version": 3
   },
   "file_extension": ".py",
   "mimetype": "text/x-python",
   "name": "python",
   "nbconvert_exporter": "python",
   "pygments_lexer": "ipython3",
   "version": "3.7.4"
  }
 },
 "nbformat": 4,
 "nbformat_minor": 2
}
